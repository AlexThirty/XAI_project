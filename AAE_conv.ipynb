{
 "cells": [
  {
   "cell_type": "code",
   "execution_count": 1,
   "metadata": {},
   "outputs": [],
   "source": [
    "import tensorflow as tf\n",
    "from datetime import datetime as dt\n",
    "import numpy as np\n"
   ]
  },
  {
   "cell_type": "code",
   "execution_count": 2,
   "metadata": {},
   "outputs": [],
   "source": [
    "class MinibatchDiscriminator(tf.keras.layers.Layer):\n",
    "    def __init__(self, b, c):\n",
    "        super(MinibatchDiscriminator, self).__init__()\n",
    "        self.b = b\n",
    "        self.c = c\n",
    "\n",
    "    def build(self, input_shape):\n",
    "        self.T = self.add_weight(\n",
    "            shape=(input_shape[-1], self.b, self.c),\n",
    "            initializer='random_normal',\n",
    "            trainable=True,\n",
    "        )\n",
    "    \n",
    "    @tf.function\n",
    "    def call(self, inputs):\n",
    "        M = tf.tensordot(inputs, self.T, axes=[[1],[0]])\n",
    "        diff = tf.expand_dims(M,0) - tf.expand_dims(M,1)\n",
    "        c = tf.math.exp(-tf.norm(diff, ord=1, axis=3))\n",
    "        o = tf.reduce_sum(c, axis=1)\n",
    "        return tf.concat([inputs, o], 1)\n",
    "\n",
    "     "
   ]
  },
  {
   "cell_type": "code",
   "execution_count": 3,
   "metadata": {},
   "outputs": [
    {
     "name": "stdout",
     "output_type": "stream",
     "text": [
      "(5, 12)\n"
     ]
    }
   ],
   "source": [
    "a = tf.cast(tf.constant([[1,1],[2,2],[3,3],[4,4],[5,5]]), 'float')\n",
    "ll = MinibatchDiscriminator(10,11)\n",
    "out = ll(a)\n",
    "print(out.shape)"
   ]
  },
  {
   "cell_type": "code",
   "execution_count": 4,
   "metadata": {},
   "outputs": [],
   "source": [
    "class AAE:\n",
    "  def __init__(self, latent_dim, input_shape, input_length, kernel_size, strides, filters, dense_dim, discriminator_dims, minidc_dims, keep_prob, base_lr, max_lr, step_size):\n",
    "    super(AAE, self).__init__()\n",
    "    self.latent_dim = latent_dim\n",
    "    self.ae_optimizer = tf.keras.optimizers.Adam(learning_rate=base_lr)\n",
    "    self.gen_optimizer = tf.keras.optimizers.Adam(learning_rate=base_lr)\n",
    "    self.dc_optimizer = tf.keras.optimizers.Adam(learning_rate=base_lr)\n",
    "    self.cross_entropy = tf.keras.losses.BinaryCrossentropy(from_logits=True)\n",
    "    self.dc_accuracy = tf.keras.metrics.BinaryAccuracy()\n",
    "    self.stride_reduction = 1\n",
    "    for i, st in enumerate(strides):\n",
    "      self.stride_reduction = self.stride_reduction*strides[i]\n",
    "    self.base_lr = base_lr\n",
    "    self.max_lr = max_lr\n",
    "    self.step_size = step_size\n",
    "    self.epoch_ae_loss_avg = tf.metrics.Mean()\n",
    "    self.epoch_dc_loss_avg = tf.metrics.Mean()\n",
    "    self.epoch_dc_acc_avg = tf.metrics.Mean()\n",
    "    self.epoch_gen_loss_avg = tf.metrics.Mean()\n",
    "\n",
    "\n",
    "    self.encoder = tf.keras.Sequential(\n",
    "        [\n",
    "          tf.keras.layers.InputLayer(input_shape=input_shape),\n",
    "          tf.keras.layers.Conv2D(filters=filters[0], kernel_size=kernel_size[0], strides=strides[0], activation='relu'),\n",
    "          tf.keras.layers.BatchNormalization(),\n",
    "          tf.keras.layers.Dropout(keep_prob),\n",
    "          tf.keras.layers.Conv2D(filters=filters[1], kernel_size=kernel_size[1], strides=strides[1], activation='relu'),\n",
    "          tf.keras.layers.BatchNormalization(),\n",
    "          tf.keras.layers.Dropout(keep_prob),\n",
    "          tf.keras.layers.Conv2D(filters=filters[2], kernel_size=kernel_size[2], strides=strides[2], activation='relu'),\n",
    "          tf.keras.layers.BatchNormalization(),\n",
    "          tf.keras.layers.Dropout(keep_prob),\n",
    "          tf.keras.layers.Conv2D(filters=filters[3], kernel_size=kernel_size[3], strides=strides[3], activation='relu'),\n",
    "          tf.keras.layers.BatchNormalization(),\n",
    "          #tf.keras.layers.Dropout(keep_prob),\n",
    "          #tf.keras.layers.Conv2D(filters=filters[4], kernel_size=kernel_size[4], strides=strides[4], activation='relu'),\n",
    "          tf.keras.layers.Flatten(),\n",
    "          tf.keras.layers.Dense(dense_dim[0], activation='relu'),\n",
    "          tf.keras.layers.Dense(dense_dim[1], activation='relu'),\n",
    "          # Obtain mu e log_var\n",
    "          tf.keras.layers.Dense(latent_dim + latent_dim)\n",
    "        ]\n",
    "    )\n",
    "\n",
    "    self.decoder = tf.keras.Sequential(\n",
    "        [\n",
    "          tf.keras.layers.InputLayer(input_shape=latent_dim),\n",
    "          tf.keras.layers.Dense(dense_dim[1]),\n",
    "          tf.keras.layers.Dense(dense_dim[0]),\n",
    "          tf.keras.layers.Dense(int(input_shape[0]*input_shape[1]*32/self.stride_reduction**2), activation='relu'),\n",
    "          tf.keras.layers.Reshape(target_shape=(int(input_shape[0]/self.stride_reduction), int(input_shape[1]/self.stride_reduction), 32)),\n",
    "          #tf.keras.layers.Conv2DTranspose(filters=filters[4], kernel_size=kernel_size[4], strides=strides[4], activation='relu', padding='same'),\n",
    "          #tf.keras.layers.Dropout(keep_prob),\n",
    "          tf.keras.layers.Conv2DTranspose(filters=filters[3], kernel_size=kernel_size[3], strides=strides[3], activation='relu', padding='same'),\n",
    "          tf.keras.layers.Dropout(keep_prob),\n",
    "          tf.keras.layers.Conv2DTranspose(filters=filters[2], kernel_size=kernel_size[2], strides=strides[2], activation='relu', padding='same'),\n",
    "          tf.keras.layers.Dropout(keep_prob),\n",
    "          tf.keras.layers.Conv2DTranspose(filters=filters[1], kernel_size=kernel_size[1], strides=strides[1], activation='relu', padding='same'),\n",
    "          tf.keras.layers.Dropout(keep_prob),\n",
    "          tf.keras.layers.Conv2DTranspose(filters=filters[0], kernel_size=kernel_size[0], strides=strides[0], activation='relu', padding='same'),\n",
    "          tf.keras.layers.Dropout(keep_prob),\n",
    "          tf.keras.layers.Conv2DTranspose(filters=input_shape[2], kernel_size=kernel_size[0], strides=1, padding='same'),\n",
    "        ]\n",
    "    )\n",
    "\n",
    "    self.discriminator = tf.keras.Sequential(\n",
    "        [\n",
    "          tf.keras.layers.InputLayer(input_shape=(latent_dim,)),\n",
    "          tf.keras.layers.Dense(discriminator_dims[0], activation='relu'),\n",
    "          tf.keras.layers.Dropout(keep_prob),\n",
    "          MinibatchDiscriminator(minidc_dims[0,0], minidc_dims[0,1]),\n",
    "          tf.keras.layers.Dense(discriminator_dims[1], activation='relu'),\n",
    "          tf.keras.layers.Dropout(keep_prob),\n",
    "          MinibatchDiscriminator(minidc_dims[1,0], minidc_dims[1,1]),\n",
    "          tf.keras.layers.Dense(1),\n",
    "        ]\n",
    "    )\n",
    "  \n",
    "  def sample(self, n_samples, eps=None):\n",
    "    if eps is None:\n",
    "      eps = tf.random.normal(shape=(n_samples, self.latent_dim))\n",
    "    return self.decode(eps, apply_sigmoid=True)\n",
    "  \n",
    "  def encode(self, x, training=False):\n",
    "    mean, log_var = tf.split(self.encoder(x, training=training), num_or_size_splits=2, axis=1)\n",
    "    return mean, log_var\n",
    "\n",
    "  def reparametrize(self, mean, log_var):\n",
    "    eps = tf.random.normal(shape=mean.shape)\n",
    "    return eps * tf.exp(log_var * .5) + mean\n",
    "  \n",
    "  def encode_and_reparametrize(self, x, training=False):\n",
    "    mean, log_var = tf.split(self.encoder(x, training=training), num_or_size_splits=2, axis=1)\n",
    "    return self.reparametrize(mean, log_var)\n",
    "\n",
    "  def decode(self, z, apply_sigmoid=False, training=False):\n",
    "    logits = self.decoder(z, training=training)\n",
    "    if apply_sigmoid:\n",
    "      probs = tf.sigmoid(logits)\n",
    "      return probs\n",
    "    return logits\n",
    "\n",
    "  def log_normal_pdf(sample, mean, log_var, raxis=1):\n",
    "    log2pi = tf.math.log(2. * np.pi)\n",
    "    return tf.reduce_sum(\n",
    "        -.5 * ((sample - mean) ** 2. * tf.exp(-log_var) + log_var + log2pi),\n",
    "        axis=raxis)\n",
    "\n",
    "  def autoencoder_loss(self, X, training=False):\n",
    "    # Generate latent space vector by encoding X\n",
    "    mean_generated, log_var_generated = self.encode(X, training=training)\n",
    "    z_generated = self.reparametrize(mean_generated, log_var_generated)\n",
    "\n",
    "    # Decode\n",
    "    X_generated = self.decode(z_generated, apply_sigmoid=True, training=training)\n",
    "\n",
    "    # Autoencoder loss\n",
    "    ae_loss = tf.reduce_mean(tf.math.squared_difference(X_generated, X))\n",
    "    return ae_loss\n",
    "    \n",
    "\n",
    "  def generator_loss(self, real_output, training=False):\n",
    "    return self.cross_entropy(tf.ones_like(real_output), real_output)\n",
    "\n",
    "  def discriminator_loss(self, real_output, fake_output, training=False):\n",
    "    real_loss = self.cross_entropy(tf.ones_like(real_output), real_output)\n",
    "    fake_loss = self.cross_entropy(tf.zeros_like(fake_output), fake_output)\n",
    "    total_loss = real_loss + fake_loss\n",
    "    return total_loss\n",
    "  \n",
    "  @tf.function\n",
    "  def train_step(self, batch_x):\n",
    "    # Autoencoder\n",
    "    with tf.GradientTape() as ae_tape:\n",
    "        # Autoencoder loss\n",
    "        ae_loss = self.autoencoder_loss(batch_x, training=True)\n",
    "    \n",
    "    ae_grads = ae_tape.gradient(ae_loss, self.encoder.trainable_variables + self.decoder.trainable_variables)\n",
    "    self.ae_optimizer.apply_gradients(zip(ae_grads, self.encoder.trainable_variables + self.decoder.trainable_variables))\n",
    "\n",
    "    generated_noise = tf.random.normal([batch_x.shape[0], self.latent_dim], mean=0.0, stddev=1.0)\n",
    "    # Discriminator\n",
    "    with tf.GradientTape() as dc_tape:\n",
    "        encoder_output = self.encode_and_reparametrize(batch_x, training=True)\n",
    "\n",
    "        dc_fake = self.discriminator(encoder_output, training=True)\n",
    "        dc_real = self.discriminator(generated_noise, training=True)\n",
    "\n",
    "        # Discriminator Loss\n",
    "        dc_loss = self.discriminator_loss(dc_real, dc_fake, training=True)\n",
    "        \n",
    "        # Discriminator Acc\n",
    "        dc_acc = self.dc_accuracy(tf.concat([tf.ones_like(dc_real), tf.zeros_like(dc_fake)], axis=0),\n",
    "                          tf.concat([dc_real, dc_fake], axis=0))\n",
    "\n",
    "    dc_grads = dc_tape.gradient(dc_loss, self.discriminator.trainable_variables)\n",
    "    self.dc_optimizer.apply_gradients(zip(dc_grads, self.discriminator.trainable_variables))\n",
    "\n",
    "    # Generator (Encoder)\n",
    "    with tf.GradientTape() as gen_tape:\n",
    "        encoder_output = self.encode_and_reparametrize(batch_x, training=True)\n",
    "        dc_fake = self.discriminator(encoder_output, training=True)\n",
    "\n",
    "        # Generator loss\n",
    "        gen_loss = self.generator_loss(dc_fake, training=True)\n",
    "\n",
    "    gen_grads = gen_tape.gradient(gen_loss, self.encoder.trainable_variables)\n",
    "    self.gen_optimizer.apply_gradients(zip(gen_grads, self.encoder.trainable_variables))\n",
    "\n",
    "    return ae_loss, dc_loss, dc_acc, gen_loss\n",
    "  \n",
    "  def fit(self, train_dataset, epochs):\n",
    "    global_step = 0\n",
    "    past = dt.now()\n",
    "    for epoch in range(epochs):\n",
    "      if epoch in [60, 150, 300]:\n",
    "        self.base_lr = self.base_lr / 2\n",
    "        self.max_lr = self.max_lr / 2\n",
    "        self.step_size = self.step_size / 2\n",
    "      epoch_start = dt.now()\n",
    "      for train_x in train_dataset:\n",
    "        global_step = global_step + 1\n",
    "        cycle = np.floor(1 + global_step / (2 * self.step_size))\n",
    "        x_lr = np.abs(global_step / self.step_size - 2 * cycle + 1)\n",
    "        clr = self.base_lr + (self.max_lr - self.base_lr) * max(0, 1 - x_lr)\n",
    "        self.ae_optimizer.learning_rate = clr\n",
    "        self.dc_optimizer.learning_rate = clr\n",
    "        self.gen_optimizer.learning_rate = clr\n",
    "        ae_loss, dc_loss, dc_acc, gen_loss = self.train_step(train_x)\n",
    "        \n",
    "      epoch_end = dt.now()\n",
    "      print(\"Epoch: {}, time elapsed: {}, AE loss: {}, Discriminator loss: {}, Discriminator accuracy: {}, Generator loss: {}\".format(epoch + 1, epoch_end - epoch_start, ae_loss, dc_loss, dc_acc, gen_loss))\n"
   ]
  },
  {
   "cell_type": "code",
   "execution_count": 5,
   "metadata": {},
   "outputs": [],
   "source": [
    "(train_images, train_labels), (test_images, test_labels) = tf.keras.datasets.cifar10.load_data()\n",
    "\n",
    "def preprocess_images(images):\n",
    "    images = (images.reshape((images.shape[0], 32, 32, 3)).astype('float32') - 127.5) / 127.5\n",
    "    return images\n",
    "\n",
    "train_images = preprocess_images(train_images)\n",
    "test_images = preprocess_images(test_images)\n",
    "\n",
    "length = train_images.shape[1]\n",
    "width = train_images.shape[2]\n",
    "channels = train_images.shape[3]\n",
    "\n",
    "train_size = train_images.shape[0]\n",
    "test_size = test_images.shape[0]\n",
    "batch_size = 128\n",
    "\n",
    "train_dataset = tf.data.Dataset.from_tensor_slices(train_images).shuffle(train_size).batch(batch_size)\n",
    "test_dataset = tf.data.Dataset.from_tensor_slices(test_images).shuffle(test_size).batch(batch_size)"
   ]
  },
  {
   "cell_type": "code",
   "execution_count": 6,
   "metadata": {},
   "outputs": [
    {
     "ename": "AttributeError",
     "evalue": "module 'keras.api._v2.keras.layers' has no attribute 'dropout'",
     "output_type": "error",
     "traceback": [
      "\u001b[1;31m---------------------------------------------------------------------------\u001b[0m",
      "\u001b[1;31mAttributeError\u001b[0m                            Traceback (most recent call last)",
      "\u001b[1;32m~\\AppData\\Local\\Temp\\ipykernel_16200\\270501522.py\u001b[0m in \u001b[0;36m<module>\u001b[1;34m\u001b[0m\n\u001b[0;32m      5\u001b[0m \u001b[0mstep_size\u001b[0m \u001b[1;33m=\u001b[0m \u001b[1;36m2\u001b[0m \u001b[1;33m*\u001b[0m \u001b[0mnp\u001b[0m\u001b[1;33m.\u001b[0m\u001b[0mceil\u001b[0m\u001b[1;33m(\u001b[0m\u001b[0mtrain_images\u001b[0m\u001b[1;33m.\u001b[0m\u001b[0mshape\u001b[0m\u001b[1;33m[\u001b[0m\u001b[1;36m0\u001b[0m\u001b[1;33m]\u001b[0m \u001b[1;33m/\u001b[0m \u001b[0mbatch_size\u001b[0m\u001b[1;33m)\u001b[0m\u001b[1;33m\u001b[0m\u001b[1;33m\u001b[0m\u001b[0m\n\u001b[0;32m      6\u001b[0m \u001b[1;33m\u001b[0m\u001b[0m\n\u001b[1;32m----> 7\u001b[1;33m \u001b[0maae\u001b[0m \u001b[1;33m=\u001b[0m \u001b[0mAAE\u001b[0m\u001b[1;33m(\u001b[0m\u001b[1;36m50\u001b[0m\u001b[1;33m,\u001b[0m \u001b[1;33m(\u001b[0m\u001b[0mlength\u001b[0m\u001b[1;33m,\u001b[0m\u001b[0mwidth\u001b[0m\u001b[1;33m,\u001b[0m\u001b[0mchannels\u001b[0m\u001b[1;33m)\u001b[0m\u001b[1;33m,\u001b[0m \u001b[0mlength\u001b[0m\u001b[1;33m*\u001b[0m\u001b[0mwidth\u001b[0m\u001b[1;33m*\u001b[0m\u001b[0mchannels\u001b[0m\u001b[1;33m,\u001b[0m \u001b[1;33m[\u001b[0m\u001b[1;36m3\u001b[0m\u001b[1;33m,\u001b[0m\u001b[1;36m3\u001b[0m\u001b[1;33m,\u001b[0m\u001b[1;36m3\u001b[0m\u001b[1;33m,\u001b[0m\u001b[1;36m3\u001b[0m\u001b[1;33m]\u001b[0m\u001b[1;33m,\u001b[0m \u001b[1;33m[\u001b[0m\u001b[1;36m2\u001b[0m\u001b[1;33m,\u001b[0m\u001b[1;36m2\u001b[0m\u001b[1;33m,\u001b[0m\u001b[1;36m2\u001b[0m\u001b[1;33m,\u001b[0m\u001b[1;36m2\u001b[0m\u001b[1;33m]\u001b[0m\u001b[1;33m,\u001b[0m \u001b[1;33m[\u001b[0m\u001b[1;36m32\u001b[0m\u001b[1;33m,\u001b[0m \u001b[1;36m64\u001b[0m\u001b[1;33m,\u001b[0m \u001b[1;36m64\u001b[0m\u001b[1;33m,\u001b[0m \u001b[1;36m128\u001b[0m\u001b[1;33m]\u001b[0m\u001b[1;33m,\u001b[0m \u001b[1;33m[\u001b[0m\u001b[1;36m100\u001b[0m\u001b[1;33m,\u001b[0m \u001b[1;36m50\u001b[0m\u001b[1;33m]\u001b[0m\u001b[1;33m,\u001b[0m \u001b[1;33m[\u001b[0m\u001b[1;36m60\u001b[0m\u001b[1;33m,\u001b[0m \u001b[1;36m30\u001b[0m\u001b[1;33m]\u001b[0m\u001b[1;33m,\u001b[0m \u001b[0mminidc_dims\u001b[0m\u001b[1;33m,\u001b[0m \u001b[1;36m0.5\u001b[0m\u001b[1;33m,\u001b[0m \u001b[0mbase_lr\u001b[0m\u001b[1;33m,\u001b[0m \u001b[0mmax_lr\u001b[0m\u001b[1;33m,\u001b[0m \u001b[0mstep_size\u001b[0m\u001b[1;33m)\u001b[0m\u001b[1;33m\u001b[0m\u001b[1;33m\u001b[0m\u001b[0m\n\u001b[0m\u001b[0;32m      8\u001b[0m \u001b[0maae\u001b[0m\u001b[1;33m.\u001b[0m\u001b[0mfit\u001b[0m\u001b[1;33m(\u001b[0m\u001b[0mtrain_dataset\u001b[0m\u001b[1;33m,\u001b[0m \u001b[0mepochs\u001b[0m\u001b[1;33m=\u001b[0m\u001b[1;36m100\u001b[0m\u001b[1;33m)\u001b[0m\u001b[1;33m\u001b[0m\u001b[1;33m\u001b[0m\u001b[0m\n",
      "\u001b[1;32m~\\AppData\\Local\\Temp\\ipykernel_16200\\1954501376.py\u001b[0m in \u001b[0;36m__init__\u001b[1;34m(self, latent_dim, input_shape, input_length, kernel_size, strides, filters, dense_dim, discriminator_dims, minidc_dims, keep_prob, base_lr, max_lr, step_size)\u001b[0m\n\u001b[0;32m     54\u001b[0m           \u001b[1;31m#tf.keras.layers.dropout(keep_prob),\u001b[0m\u001b[1;33m\u001b[0m\u001b[1;33m\u001b[0m\u001b[0m\n\u001b[0;32m     55\u001b[0m           \u001b[0mtf\u001b[0m\u001b[1;33m.\u001b[0m\u001b[0mkeras\u001b[0m\u001b[1;33m.\u001b[0m\u001b[0mlayers\u001b[0m\u001b[1;33m.\u001b[0m\u001b[0mConv2DTranspose\u001b[0m\u001b[1;33m(\u001b[0m\u001b[0mfilters\u001b[0m\u001b[1;33m=\u001b[0m\u001b[0mfilters\u001b[0m\u001b[1;33m[\u001b[0m\u001b[1;36m3\u001b[0m\u001b[1;33m]\u001b[0m\u001b[1;33m,\u001b[0m \u001b[0mkernel_size\u001b[0m\u001b[1;33m=\u001b[0m\u001b[0mkernel_size\u001b[0m\u001b[1;33m[\u001b[0m\u001b[1;36m3\u001b[0m\u001b[1;33m]\u001b[0m\u001b[1;33m,\u001b[0m \u001b[0mstrides\u001b[0m\u001b[1;33m=\u001b[0m\u001b[0mstrides\u001b[0m\u001b[1;33m[\u001b[0m\u001b[1;36m3\u001b[0m\u001b[1;33m]\u001b[0m\u001b[1;33m,\u001b[0m \u001b[0mactivation\u001b[0m\u001b[1;33m=\u001b[0m\u001b[1;34m'relu'\u001b[0m\u001b[1;33m,\u001b[0m \u001b[0mpadding\u001b[0m\u001b[1;33m=\u001b[0m\u001b[1;34m'same'\u001b[0m\u001b[1;33m)\u001b[0m\u001b[1;33m,\u001b[0m\u001b[1;33m\u001b[0m\u001b[1;33m\u001b[0m\u001b[0m\n\u001b[1;32m---> 56\u001b[1;33m           \u001b[0mtf\u001b[0m\u001b[1;33m.\u001b[0m\u001b[0mkeras\u001b[0m\u001b[1;33m.\u001b[0m\u001b[0mlayers\u001b[0m\u001b[1;33m.\u001b[0m\u001b[0mdropout\u001b[0m\u001b[1;33m(\u001b[0m\u001b[0mkeep_prob\u001b[0m\u001b[1;33m)\u001b[0m\u001b[1;33m,\u001b[0m\u001b[1;33m\u001b[0m\u001b[1;33m\u001b[0m\u001b[0m\n\u001b[0m\u001b[0;32m     57\u001b[0m           \u001b[0mtf\u001b[0m\u001b[1;33m.\u001b[0m\u001b[0mkeras\u001b[0m\u001b[1;33m.\u001b[0m\u001b[0mlayers\u001b[0m\u001b[1;33m.\u001b[0m\u001b[0mConv2DTranspose\u001b[0m\u001b[1;33m(\u001b[0m\u001b[0mfilters\u001b[0m\u001b[1;33m=\u001b[0m\u001b[0mfilters\u001b[0m\u001b[1;33m[\u001b[0m\u001b[1;36m2\u001b[0m\u001b[1;33m]\u001b[0m\u001b[1;33m,\u001b[0m \u001b[0mkernel_size\u001b[0m\u001b[1;33m=\u001b[0m\u001b[0mkernel_size\u001b[0m\u001b[1;33m[\u001b[0m\u001b[1;36m2\u001b[0m\u001b[1;33m]\u001b[0m\u001b[1;33m,\u001b[0m \u001b[0mstrides\u001b[0m\u001b[1;33m=\u001b[0m\u001b[0mstrides\u001b[0m\u001b[1;33m[\u001b[0m\u001b[1;36m2\u001b[0m\u001b[1;33m]\u001b[0m\u001b[1;33m,\u001b[0m \u001b[0mactivation\u001b[0m\u001b[1;33m=\u001b[0m\u001b[1;34m'relu'\u001b[0m\u001b[1;33m,\u001b[0m \u001b[0mpadding\u001b[0m\u001b[1;33m=\u001b[0m\u001b[1;34m'same'\u001b[0m\u001b[1;33m)\u001b[0m\u001b[1;33m,\u001b[0m\u001b[1;33m\u001b[0m\u001b[1;33m\u001b[0m\u001b[0m\n\u001b[0;32m     58\u001b[0m           \u001b[0mtf\u001b[0m\u001b[1;33m.\u001b[0m\u001b[0mkeras\u001b[0m\u001b[1;33m.\u001b[0m\u001b[0mlayers\u001b[0m\u001b[1;33m.\u001b[0m\u001b[0mDropout\u001b[0m\u001b[1;33m(\u001b[0m\u001b[0mkeep_prob\u001b[0m\u001b[1;33m)\u001b[0m\u001b[1;33m,\u001b[0m\u001b[1;33m\u001b[0m\u001b[1;33m\u001b[0m\u001b[0m\n",
      "\u001b[1;31mAttributeError\u001b[0m: module 'keras.api._v2.keras.layers' has no attribute 'dropout'"
     ]
    }
   ],
   "source": [
    "minidc_dims=np.array([[30,30],[20,20]])\n",
    "\n",
    "base_lr = 0.00025\n",
    "max_lr = 0.0025\n",
    "step_size = 2 * np.ceil(train_images.shape[0] / batch_size)\n",
    "\n",
    "aae = AAE(50, (length,width,channels), length*width*channels, [3,3,3,3], [2,2,2,2], [32, 64, 64, 128], [100, 50], [60, 30], minidc_dims, 0.5, base_lr, max_lr, step_size)\n",
    "aae.fit(train_dataset, epochs=100)"
   ]
  },
  {
   "cell_type": "code",
   "execution_count": null,
   "metadata": {},
   "outputs": [
    {
     "name": "stdout",
     "output_type": "stream",
     "text": [
      "WARNING:tensorflow:Compiled the loaded model, but the compiled metrics have yet to be built. `model.compile_metrics` will be empty until you train or evaluate the model.\n",
      "INFO:tensorflow:Assets written to: enc_model\\assets\n",
      "WARNING:tensorflow:Compiled the loaded model, but the compiled metrics have yet to be built. `model.compile_metrics` will be empty until you train or evaluate the model.\n",
      "INFO:tensorflow:Assets written to: dec_model\\assets\n",
      "WARNING:tensorflow:Compiled the loaded model, but the compiled metrics have yet to be built. `model.compile_metrics` will be empty until you train or evaluate the model.\n",
      "INFO:tensorflow:Assets written to: dc_model\\assets\n"
     ]
    }
   ],
   "source": [
    "aae.encoder.save('enc_model')\n",
    "aae.decoder.save('dec_model')\n",
    "aae.discriminator.save('dc_model')"
   ]
  },
  {
   "cell_type": "code",
   "execution_count": null,
   "metadata": {},
   "outputs": [
    {
     "data": {
      "image/png": "[encoded data removed]",
      "text/plain": [
       "<Figure size 432x288 with 1 Axes>"
      ]
     },
     "metadata": {
      "needs_background": "light"
     },
     "output_type": "display_data"
    },
    {
     "data": {
      "image/png": "[encoded data removed]",
      "text/plain": [
       "<Figure size 432x288 with 1 Axes>"
      ]
     },
     "metadata": {
      "needs_background": "light"
     },
     "output_type": "display_data"
    }
   ],
   "source": [
    "from matplotlib import pyplot as plt\n",
    "\n",
    "image = train_images[3,:,:,:].reshape((1,32,32,3))\n",
    "z = aae.encode_and_reparametrize(image)\n",
    "image_recon = aae.decode(z, apply_sigmoid=True)\n",
    "plt.figure()\n",
    "plt.imshow(image[0,:,:,:])\n",
    "plt.show()\n",
    "plt.figure()\n",
    "plt.imshow(image_recon[0,:,:,:])\n",
    "plt.show()"
   ]
  },
  {
   "cell_type": "code",
   "execution_count": null,
   "metadata": {},
   "outputs": [
    {
     "data": {
      "image/png": "[encoded data removed]",
      "text/plain": [
       "<Figure size 432x288 with 1 Axes>"
      ]
     },
     "metadata": {
      "needs_background": "light"
     },
     "output_type": "display_data"
    }
   ],
   "source": [
    "import tensorflow_probability as tfp\n",
    "\n",
    "z = np.random.rand(1,50)\n",
    "image = aae.decode(z, apply_sigmoid=True).numpy()\n",
    "image = image *127.5 + 127.5\n",
    "image=image.astype('int16')\n",
    "image.reshape((32,32,3))\n",
    "plt.figure()\n",
    "plt.imshow(image[0,:,:,:])\n",
    "plt.show()"
   ]
  },
  {
   "cell_type": "code",
   "execution_count": null,
   "metadata": {},
   "outputs": [
    {
     "name": "stdout",
     "output_type": "stream",
     "text": [
      "(5, 2)\n",
      "(2, 3, 4)\n",
      "(5, 3, 4)\n",
      "(5, 5, 3, 4)\n",
      "(5, 5, 3)\n",
      "(5, 3)\n"
     ]
    }
   ],
   "source": [
    "import tensorflow as tf\n",
    "a = 2\n",
    "b = 3\n",
    "c = 4\n",
    "f_x = tf.constant([[1,1],[2,2],[3,3],[4,4],[5,5]])\n",
    "print(f_x.shape)\n",
    "T = tf.constant([[[1,1,1,1],[2,2,2,2],[3,3,3,3]],[[4,4,4,4],[5,5,5,5],[6,6,6,6]]])\n",
    "print(T.shape)\n",
    "M = tf.tensordot(f_x, T, axes=[[1],[0]])\n",
    "print(M.shape)\n",
    "diff = tf.expand_dims(M, 0) - tf.expand_dims(M,1)\n",
    "print(diff.shape)\n",
    "c = tf.norm(diff, ord=1, axis=3)\n",
    "c = tf.cast(c, 'float')\n",
    "c = tf.math.exp(-c)\n",
    "print(c.shape)\n",
    "o = tf.reduce_sum(c, axis=1)\n",
    "print(o.shape)\n",
    "\n"
   ]
  }
 ],
 "metadata": {
  "interpreter": {
   "hash": "802d4647a7a0386ab071d09b3b926d986a71258cf56021a9fa597b7a13f049b3"
  },
  "kernelspec": {
   "display_name": "Python 3.9.7 64-bit",
   "language": "python",
   "name": "python3"
  },
  "language_info": {
   "codemirror_mode": {
    "name": "ipython",
    "version": 3
   },
   "file_extension": ".py",
   "mimetype": "text/x-python",
   "name": "python",
   "nbconvert_exporter": "python",
   "pygments_lexer": "ipython3",
   "version": "3.9.7"
  },
  "orig_nbformat": 4
 },
 "nbformat": 4,
 "nbformat_minor": 2
}
