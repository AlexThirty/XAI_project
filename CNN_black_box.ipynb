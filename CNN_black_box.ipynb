{
  "cells": [
    {
      "cell_type": "code",
      "execution_count": 1,
      "metadata": {
        "id": "nGzuZ6nhIWCR"
      },
      "outputs": [],
      "source": [
        "import tensorflow as tf\n",
        "import numpy as np\n",
        "from matplotlib import pyplot as plt"
      ]
    },
    {
      "cell_type": "code",
      "execution_count": 2,
      "metadata": {
        "colab": {
          "base_uri": "https://localhost:8080/"
        },
        "id": "L9kn0OAi9wei",
        "outputId": "47223853-5e0e-4cec-9285-7fb66631acad"
      },
      "outputs": [
        {
          "name": "stdout",
          "output_type": "stream",
          "text": [
            "Drive already mounted at /content/drive; to attempt to forcibly remount, call drive.mount(\"/content/drive\", force_remount=True).\n"
          ]
        }
      ],
      "source": [
        "from google.colab import drive\n",
        "drive.mount('/content/drive')"
      ]
    },
    {
      "cell_type": "code",
      "execution_count": 5,
      "metadata": {
        "id": "IOIvKRzj_K9p"
      },
      "outputs": [],
      "source": [
        "!ls /content/drive/MyDrive/Blackboxes"
      ]
    },
    {
      "cell_type": "code",
      "execution_count": 3,
      "metadata": {
        "id": "fNBaw0C2IWCU"
      },
      "outputs": [],
      "source": [
        "(train_images, train_labels), (test_images, test_labels) = tf.keras.datasets.cifar10.load_data()\n",
        "\n",
        "input_shape = (32,32,3)\n",
        "num_labels = 10\n",
        "\n",
        "def preprocess_images(images, target_shape=input_shape):\n",
        "    images = images.reshape((images.shape[0], 32, 32, 3)).astype('float32') / 255.\n",
        "    return images\n",
        "\n",
        "train_images = preprocess_images(train_images)\n",
        "test_images = preprocess_images(test_images)\n",
        "\n",
        "train_size = train_images.shape[0]\n",
        "test_size = test_images.shape[0]\n",
        "batch_size = 128\n",
        "\n",
        "train_dataset = tf.data.Dataset.from_tensor_slices(train_images).shuffle(train_size).batch(batch_size)\n",
        "test_dataset = tf.data.Dataset.from_tensor_slices(test_images).shuffle(test_size).batch(batch_size)\n",
        "\n"
      ]
    },
    {
      "cell_type": "code",
      "execution_count": 4,
      "metadata": {
        "id": "vE9Qc-j_IWCV"
      },
      "outputs": [],
      "source": [
        "filters = [32, 64, 128]\n",
        "strides = [1, 1, 1]\n",
        "kernel_size = [3, 3, 3]\n",
        "dense_dim = [100, 50]\n",
        "\n",
        "CNN = tf.keras.Sequential(\n",
        "    [\n",
        "    tf.keras.layers.InputLayer(input_shape=input_shape),\n",
        "    tf.keras.layers.Conv2D(filters=filters[0], kernel_size=kernel_size[0], strides=strides[0], activation='relu'),\n",
        "    tf.keras.layers.MaxPooling2D((2,2)),\n",
        "    tf.keras.layers.Conv2D(filters=filters[1], kernel_size=kernel_size[1], strides=strides[1], activation='relu'),\n",
        "    tf.keras.layers.MaxPooling2D((2,2)),\n",
        "    tf.keras.layers.Conv2D(filters=filters[2], kernel_size=kernel_size[2], strides=strides[2], activation='relu'),\n",
        "    tf.keras.layers.Flatten(),\n",
        "    tf.keras.layers.Dense(dense_dim[0], activation='relu'),\n",
        "    tf.keras.layers.Dense(dense_dim[1], activation='relu'),\n",
        "    tf.keras.layers.Dense(num_labels),\n",
        "    ]\n",
        ")\n",
        "\n",
        "CNN.compile(optimizer='adam',\n",
        "                loss=tf.keras.losses.SparseCategoricalCrossentropy(from_logits=True),\n",
        "                metrics=['accuracy'])"
      ]
    },
    {
      "cell_type": "code",
      "execution_count": 5,
      "metadata": {
        "colab": {
          "base_uri": "https://localhost:8080/",
          "height": 1000
        },
        "id": "e4vj4WxsIWCX",
        "outputId": "a0735717-f481-4146-b1cf-d4950428377e"
      },
      "outputs": [
        {
          "name": "stdout",
          "output_type": "stream",
          "text": [
            "Epoch 1/50\n",
            "1563/1563 [==============================] - 15s 9ms/step - loss: 1.5189 - accuracy: 0.4433 - val_loss: 1.2333 - val_accuracy: 0.5564\n",
            "Epoch 2/50\n",
            "1563/1563 [==============================] - 13s 9ms/step - loss: 1.1116 - accuracy: 0.6035 - val_loss: 1.1143 - val_accuracy: 0.6057\n",
            "Epoch 3/50\n",
            "1563/1563 [==============================] - 13s 9ms/step - loss: 0.9247 - accuracy: 0.6746 - val_loss: 0.9567 - val_accuracy: 0.6683\n",
            "Epoch 4/50\n",
            "1563/1563 [==============================] - 14s 9ms/step - loss: 0.8118 - accuracy: 0.7182 - val_loss: 0.9692 - val_accuracy: 0.6726\n",
            "Epoch 5/50\n",
            "1563/1563 [==============================] - 15s 9ms/step - loss: 0.7278 - accuracy: 0.7464 - val_loss: 0.8458 - val_accuracy: 0.7018\n",
            "Epoch 6/50\n",
            "1563/1563 [==============================] - 14s 9ms/step - loss: 0.6563 - accuracy: 0.7694 - val_loss: 0.8514 - val_accuracy: 0.7170\n",
            "Epoch 7/50\n",
            "1563/1563 [==============================] - 14s 9ms/step - loss: 0.5956 - accuracy: 0.7913 - val_loss: 0.8507 - val_accuracy: 0.7219\n",
            "Epoch 8/50\n",
            "1563/1563 [==============================] - 14s 9ms/step - loss: 0.5392 - accuracy: 0.8113 - val_loss: 0.8840 - val_accuracy: 0.7139\n",
            "Epoch 9/50\n",
            "1563/1563 [==============================] - 13s 9ms/step - loss: 0.4903 - accuracy: 0.8269 - val_loss: 0.9207 - val_accuracy: 0.7187\n",
            "Epoch 10/50\n",
            "1563/1563 [==============================] - 14s 9ms/step - loss: 0.4419 - accuracy: 0.8421 - val_loss: 0.9254 - val_accuracy: 0.7222\n",
            "Epoch 11/50\n",
            "1563/1563 [==============================] - 13s 9ms/step - loss: 0.4040 - accuracy: 0.8558 - val_loss: 0.9848 - val_accuracy: 0.7142\n",
            "Epoch 12/50\n",
            "1563/1563 [==============================] - 14s 9ms/step - loss: 0.3593 - accuracy: 0.8720 - val_loss: 1.0274 - val_accuracy: 0.7180\n",
            "Epoch 13/50\n",
            "1563/1563 [==============================] - 14s 9ms/step - loss: 0.3280 - accuracy: 0.8825 - val_loss: 1.0970 - val_accuracy: 0.7129\n",
            "Epoch 14/50\n",
            "1563/1563 [==============================] - 14s 9ms/step - loss: 0.2945 - accuracy: 0.8953 - val_loss: 1.1420 - val_accuracy: 0.7139\n",
            "Epoch 15/50\n",
            "1563/1563 [==============================] - 14s 9ms/step - loss: 0.2656 - accuracy: 0.9047 - val_loss: 1.2072 - val_accuracy: 0.7091\n",
            "Epoch 16/50\n",
            "1563/1563 [==============================] - 14s 9ms/step - loss: 0.2445 - accuracy: 0.9124 - val_loss: 1.2360 - val_accuracy: 0.7046\n",
            "Epoch 17/50\n",
            "1563/1563 [==============================] - 14s 9ms/step - loss: 0.2209 - accuracy: 0.9206 - val_loss: 1.2920 - val_accuracy: 0.7136\n",
            "Epoch 18/50\n",
            "1563/1563 [==============================] - 14s 9ms/step - loss: 0.2008 - accuracy: 0.9290 - val_loss: 1.4337 - val_accuracy: 0.7088\n",
            "Epoch 19/50\n",
            "1563/1563 [==============================] - 13s 9ms/step - loss: 0.1872 - accuracy: 0.9322 - val_loss: 1.4895 - val_accuracy: 0.7097\n",
            "Epoch 20/50\n",
            "1563/1563 [==============================] - 13s 9ms/step - loss: 0.1818 - accuracy: 0.9368 - val_loss: 1.5263 - val_accuracy: 0.6967\n",
            "Epoch 21/50\n",
            "1563/1563 [==============================] - 13s 9ms/step - loss: 0.1715 - accuracy: 0.9395 - val_loss: 1.5626 - val_accuracy: 0.6988\n",
            "Epoch 22/50\n",
            "1563/1563 [==============================] - 14s 9ms/step - loss: 0.1510 - accuracy: 0.9477 - val_loss: 1.6559 - val_accuracy: 0.7021\n",
            "Epoch 23/50\n",
            "1563/1563 [==============================] - 14s 9ms/step - loss: 0.1536 - accuracy: 0.9450 - val_loss: 1.6634 - val_accuracy: 0.6956\n",
            "Epoch 24/50\n",
            "1563/1563 [==============================] - 14s 9ms/step - loss: 0.1404 - accuracy: 0.9497 - val_loss: 1.7960 - val_accuracy: 0.6992\n",
            "Epoch 25/50\n",
            "1563/1563 [==============================] - 14s 9ms/step - loss: 0.1379 - accuracy: 0.9505 - val_loss: 1.9050 - val_accuracy: 0.6940\n",
            "Epoch 26/50\n",
            "1563/1563 [==============================] - 14s 9ms/step - loss: 0.1337 - accuracy: 0.9536 - val_loss: 1.7934 - val_accuracy: 0.6969\n",
            "Epoch 27/50\n",
            "1563/1563 [==============================] - 14s 9ms/step - loss: 0.1278 - accuracy: 0.9559 - val_loss: 1.8683 - val_accuracy: 0.7013\n",
            "Epoch 28/50\n",
            "1563/1563 [==============================] - 14s 9ms/step - loss: 0.1097 - accuracy: 0.9612 - val_loss: 2.1089 - val_accuracy: 0.7002\n",
            "Epoch 29/50\n",
            "1563/1563 [==============================] - 14s 9ms/step - loss: 0.1189 - accuracy: 0.9592 - val_loss: 1.9995 - val_accuracy: 0.6949\n",
            "Epoch 30/50\n",
            "1563/1563 [==============================] - 14s 9ms/step - loss: 0.1152 - accuracy: 0.9606 - val_loss: 2.0567 - val_accuracy: 0.6954\n",
            "Epoch 31/50\n",
            "1563/1563 [==============================] - 14s 9ms/step - loss: 0.1026 - accuracy: 0.9654 - val_loss: 2.1638 - val_accuracy: 0.7004\n",
            "Epoch 32/50\n",
            "1563/1563 [==============================] - 14s 9ms/step - loss: 0.1119 - accuracy: 0.9618 - val_loss: 2.0195 - val_accuracy: 0.7029\n",
            "Epoch 33/50\n",
            "1563/1563 [==============================] - 14s 9ms/step - loss: 0.1007 - accuracy: 0.9650 - val_loss: 2.1060 - val_accuracy: 0.6994\n",
            "Epoch 34/50\n",
            "1563/1563 [==============================] - 14s 9ms/step - loss: 0.1054 - accuracy: 0.9649 - val_loss: 2.1581 - val_accuracy: 0.7011\n",
            "Epoch 35/50\n",
            "1563/1563 [==============================] - 14s 9ms/step - loss: 0.0991 - accuracy: 0.9656 - val_loss: 2.1978 - val_accuracy: 0.6991\n",
            "Epoch 36/50\n",
            "1563/1563 [==============================] - 14s 9ms/step - loss: 0.0961 - accuracy: 0.9676 - val_loss: 2.2032 - val_accuracy: 0.6995\n",
            "Epoch 37/50\n",
            "1563/1563 [==============================] - 14s 9ms/step - loss: 0.0889 - accuracy: 0.9708 - val_loss: 2.1753 - val_accuracy: 0.6931\n",
            "Epoch 38/50\n",
            "1563/1563 [==============================] - 14s 9ms/step - loss: 0.1011 - accuracy: 0.9664 - val_loss: 2.1308 - val_accuracy: 0.7011\n",
            "Epoch 39/50\n",
            "1563/1563 [==============================] - 14s 9ms/step - loss: 0.0874 - accuracy: 0.9712 - val_loss: 2.2568 - val_accuracy: 0.6957\n",
            "Epoch 40/50\n",
            "1563/1563 [==============================] - 14s 9ms/step - loss: 0.0947 - accuracy: 0.9688 - val_loss: 2.2453 - val_accuracy: 0.6924\n",
            "Epoch 41/50\n",
            "1563/1563 [==============================] - 14s 9ms/step - loss: 0.0801 - accuracy: 0.9733 - val_loss: 2.3128 - val_accuracy: 0.7002\n",
            "Epoch 42/50\n",
            "1563/1563 [==============================] - 14s 9ms/step - loss: 0.0893 - accuracy: 0.9706 - val_loss: 2.2815 - val_accuracy: 0.6990\n",
            "Epoch 43/50\n",
            "1563/1563 [==============================] - 14s 9ms/step - loss: 0.0854 - accuracy: 0.9721 - val_loss: 2.2191 - val_accuracy: 0.6970\n",
            "Epoch 44/50\n",
            "1563/1563 [==============================] - 14s 9ms/step - loss: 0.0766 - accuracy: 0.9744 - val_loss: 2.4297 - val_accuracy: 0.6919\n",
            "Epoch 45/50\n",
            "1563/1563 [==============================] - 14s 9ms/step - loss: 0.0792 - accuracy: 0.9734 - val_loss: 2.4678 - val_accuracy: 0.6918\n",
            "Epoch 46/50\n",
            "1563/1563 [==============================] - 14s 9ms/step - loss: 0.0744 - accuracy: 0.9756 - val_loss: 2.4915 - val_accuracy: 0.7019\n",
            "Epoch 47/50\n",
            "1563/1563 [==============================] - 14s 9ms/step - loss: 0.0798 - accuracy: 0.9733 - val_loss: 2.4396 - val_accuracy: 0.6944\n",
            "Epoch 48/50\n",
            "1563/1563 [==============================] - 14s 9ms/step - loss: 0.0789 - accuracy: 0.9739 - val_loss: 2.5715 - val_accuracy: 0.6976\n",
            "Epoch 49/50\n",
            "1563/1563 [==============================] - 14s 9ms/step - loss: 0.0736 - accuracy: 0.9768 - val_loss: 2.5604 - val_accuracy: 0.6980\n",
            "Epoch 50/50\n",
            "1563/1563 [==============================] - 14s 9ms/step - loss: 0.0680 - accuracy: 0.9782 - val_loss: 2.4969 - val_accuracy: 0.6975\n",
            "313/313 - 1s - loss: 2.4969 - accuracy: 0.6975 - 1s/epoch - 4ms/step\n"
          ]
        },
        {
          "data": {
            "image/png": "[encoded data removed]",
            "text/plain": [
              "<Figure size 432x288 with 1 Axes>"
            ]
          },
          "metadata": {
            "needs_background": "light"
          },
          "output_type": "display_data"
        }
      ],
      "source": [
        "history = CNN.fit(train_images, train_labels, epochs=50, \n",
        "                    validation_data=(test_images, test_labels))\n",
        "\n",
        "plt.plot(history.history['accuracy'], label='accuracy')\n",
        "plt.plot(history.history['val_accuracy'], label = 'val_accuracy')\n",
        "plt.xlabel('Epoch')\n",
        "plt.ylabel('Accuracy')\n",
        "plt.ylim([0.5, 1])\n",
        "plt.legend(loc='lower right')\n",
        "\n",
        "test_loss, test_acc = CNN.evaluate(test_images,  test_labels, verbose=2)"
      ]
    },
    {
      "cell_type": "code",
      "execution_count": 6,
      "metadata": {
        "colab": {
          "base_uri": "https://localhost:8080/"
        },
        "id": "30yiO4iYIWCX",
        "outputId": "020718e0-1be1-4708-9003-0f38687cf3b9"
      },
      "outputs": [
        {
          "name": "stdout",
          "output_type": "stream",
          "text": [
            "INFO:tensorflow:Assets written to: /content/drive/MyDrive/Blackboxes/CNN_black_box/assets\n"
          ]
        }
      ],
      "source": [
        "CNN.save('/content/drive/MyDrive/Blackboxes/CNN_black_box')"
      ]
    }
  ],
  "metadata": {
    "accelerator": "GPU",
    "colab": {
      "name": "CNN_black_box.ipynb",
      "provenance": []
    },
    "kernelspec": {
      "display_name": "Python 3",
      "name": "python3"
    },
    "language_info": {
      "name": "python",
      "version": "3.9.7"
    },
    "orig_nbformat": 4
  },
  "nbformat": 4,
  "nbformat_minor": 0
}
