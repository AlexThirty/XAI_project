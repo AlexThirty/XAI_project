{
 "cells": [
  {
   "cell_type": "code",
   "execution_count": 1,
   "metadata": {},
   "outputs": [],
   "source": [
    "import tensorflow as tf\n",
    "from datetime import datetime as dt\n",
    "import numpy as np\n"
   ]
  },
  {
   "cell_type": "code",
   "execution_count": 2,
   "metadata": {},
   "outputs": [],
   "source": [
    "class AAE:\n",
    "  def __init__(self, latent_dim, input_shape, input_length, kernel_size, strides, filters, dense_dim, discriminator_dims, keep_prob, ae_lr, dc_lr, gen_lr):\n",
    "    super(AAE, self).__init__()\n",
    "    self.latent_dim = latent_dim\n",
    "    self.ae_optimizer = tf.keras.optimizers.Adam(learning_rate=ae_lr)\n",
    "    self.gen_optimizer = tf.keras.optimizers.Adam(learning_rate=gen_lr)\n",
    "    self.dc_optimizer = tf.keras.optimizers.Adam(learning_rate=dc_lr)\n",
    "    self.cross_entropy = tf.keras.losses.BinaryCrossentropy(from_logits=True)\n",
    "    self.dc_accuracy = tf.keras.metrics.BinaryAccuracy()\n",
    "    self.stride_reduction = strides[0]*strides[1]*strides[2]\n",
    "\n",
    "    self.encoder = tf.keras.Sequential(\n",
    "        [\n",
    "          tf.keras.layers.InputLayer(input_shape=input_shape),\n",
    "          tf.keras.layers.Conv2D(filters=filters[0], kernel_size=kernel_size[0], strides=strides[0], activation='relu'),\n",
    "          #tf.keras.layers.Dropout(keep_prob),\n",
    "          tf.keras.layers.Conv2D(filters=filters[1], kernel_size=kernel_size[1], strides=strides[1], activation='relu'),\n",
    "          #tf.keras.layers.Dropout(keep_prob),\n",
    "          tf.keras.layers.Conv2D(filters=filters[2], kernel_size=kernel_size[2], strides=strides[2], activation='relu'),\n",
    "          #tf.keras.layers.Dropout(keep_prob),\n",
    "          tf.keras.layers.Flatten(),\n",
    "          tf.keras.layers.Dense(dense_dim, activation='relu'),\n",
    "          # Obtain mu e log_var\n",
    "          tf.keras.layers.Dense(latent_dim + latent_dim)\n",
    "        ]\n",
    "    )\n",
    "\n",
    "    self.decoder = tf.keras.Sequential(\n",
    "        [\n",
    "          tf.keras.layers.InputLayer(input_shape=latent_dim),\n",
    "          tf.keras.layers.Dense(dense_dim),\n",
    "          tf.keras.layers.Dense(int(input_shape[0]*input_shape[1]*32/self.stride_reduction**2), activation='relu'),\n",
    "          tf.keras.layers.Reshape(target_shape=(int(input_shape[0]/self.stride_reduction), int(input_shape[1]/self.stride_reduction), 32)),\n",
    "          tf.keras.layers.Conv2DTranspose(filters=filters[2], kernel_size=kernel_size[2], strides=strides[2], activation='relu', padding='same'),\n",
    "          #tf.keras.layers.Dropout(keep_prob),\n",
    "          tf.keras.layers.Conv2DTranspose(filters=filters[1], kernel_size=kernel_size[1], strides=strides[1], activation='relu', padding='same'),\n",
    "          #tf.keras.layers.Dropout(keep_prob),\n",
    "          tf.keras.layers.Conv2DTranspose(filters=filters[0], kernel_size=kernel_size[0], strides=strides[0], activation='relu', padding='same'),\n",
    "          #tf.keras.layers.Dropout(keep_prob),\n",
    "          tf.keras.layers.Conv2DTranspose(filters=input_shape[2], kernel_size=kernel_size[0], strides=1, padding='same'),\n",
    "        ]\n",
    "    )\n",
    "\n",
    "    self.discriminator = tf.keras.Sequential(\n",
    "        [\n",
    "          tf.keras.layers.InputLayer(input_shape=(latent_dim,)),\n",
    "          tf.keras.layers.Dense(discriminator_dims[0], activation='relu'),\n",
    "          tf.keras.layers.Dropout(keep_prob),\n",
    "          tf.keras.layers.Dense(discriminator_dims[1], activation='relu'),\n",
    "          tf.keras.layers.Dropout(keep_prob),\n",
    "          tf.keras.layers.Dense(1),\n",
    "        ]\n",
    "    )\n",
    "  \n",
    "  def sample(self, n_samples, eps=None):\n",
    "    if eps is None:\n",
    "      eps = tf.random.normal(shape=(n_samples, self.latent_dim))\n",
    "    return self.decode(eps, apply_sigmoid=True)\n",
    "  \n",
    "  def encode(self, x, training=False):\n",
    "    mean, log_var = tf.split(self.encoder(x, training=training), num_or_size_splits=2, axis=1)\n",
    "    return mean, log_var\n",
    "\n",
    "  def reparametrize(self, mean, log_var):\n",
    "    eps = tf.random.normal(shape=mean.shape)\n",
    "    return eps * tf.exp(log_var * .5) + mean\n",
    "  \n",
    "  def encode_and_reparametrize(self, x, training=False):\n",
    "    mean, log_var = tf.split(self.encoder(x, training=training), num_or_size_splits=2, axis=1)\n",
    "    return self.reparametrize(mean, log_var)\n",
    "\n",
    "  def decode(self, z, apply_sigmoid=False, training=False):\n",
    "    logits = self.decoder(z, training=training)\n",
    "    if apply_sigmoid:\n",
    "      probs = tf.sigmoid(logits)\n",
    "      return probs\n",
    "    return logits\n",
    "\n",
    "  def log_normal_pdf(sample, mean, log_var, raxis=1):\n",
    "    log2pi = tf.math.log(2. * np.pi)\n",
    "    return tf.reduce_sum(\n",
    "        -.5 * ((sample - mean) ** 2. * tf.exp(-log_var) + log_var + log2pi),\n",
    "        axis=raxis)\n",
    "\n",
    "  def autoencoder_loss(self, X, training=False):\n",
    "    # Generate latent space vector by encoding X\n",
    "    mean_generated, log_var_generated = self.encode(X, training=training)\n",
    "    z_generated = self.reparametrize(mean_generated, log_var_generated)\n",
    "\n",
    "    # Decode\n",
    "    X_generated = self.decode(z_generated, apply_sigmoid=True, training=training)\n",
    "\n",
    "    # Autoencoder loss\n",
    "    ae_loss = tf.reduce_mean(tf.math.squared_difference(X_generated, X))\n",
    "    return ae_loss\n",
    "    \n",
    "\n",
    "  def generator_loss(self, real_output, training=False):\n",
    "    return self.cross_entropy(tf.ones_like(real_output), real_output)\n",
    "\n",
    "  def discriminator_loss(self, real_output, fake_output, training=False):\n",
    "    real_loss = self.cross_entropy(tf.ones_like(real_output), real_output)\n",
    "    fake_loss = self.cross_entropy(tf.zeros_like(fake_output), fake_output)\n",
    "    total_loss = real_loss + fake_loss\n",
    "    return total_loss\n",
    "  \n",
    "  @tf.function\n",
    "  def train_step(self, batch_x):\n",
    "    # Autoencoder\n",
    "    with tf.GradientTape() as ae_tape:\n",
    "        encoder_output = self.encode_and_reparametrize(batch_x, training=True)\n",
    "        decoder_output = self.decode(encoder_output, apply_sigmoid=True, training=True)\n",
    "\n",
    "        # Autoencoder loss\n",
    "        ae_loss = self.autoencoder_loss(batch_x, training=True)\n",
    "    \n",
    "    ae_grads = ae_tape.gradient(ae_loss, self.encoder.trainable_variables + self.decoder.trainable_variables)\n",
    "    self.ae_optimizer.apply_gradients(zip(ae_grads, self.encoder.trainable_variables + self.decoder.trainable_variables))\n",
    "\n",
    "    generated_noise = tf.random.normal([batch_x.shape[0], self.latent_dim], mean=0.0, stddev=1.0)\n",
    "    # Discriminator\n",
    "    with tf.GradientTape() as dc_tape:\n",
    "        encoder_output = self.encode_and_reparametrize(batch_x, training=True)\n",
    "\n",
    "        dc_real = self.discriminator(encoder_output, training=True)\n",
    "        dc_fake = self.discriminator(generated_noise, training=True)\n",
    "\n",
    "        # Discriminator Loss\n",
    "        dc_loss = self.discriminator_loss(dc_real, dc_fake, training=True)\n",
    "        \n",
    "        # Discriminator Acc\n",
    "        dc_acc = self.dc_accuracy(tf.concat([tf.ones_like(dc_real), tf.zeros_like(dc_fake)], axis=0),\n",
    "                          tf.concat([dc_real, dc_fake], axis=0))\n",
    "\n",
    "    dc_grads = dc_tape.gradient(dc_loss, self.discriminator.trainable_variables)\n",
    "    self.dc_optimizer.apply_gradients(zip(dc_grads, self.discriminator.trainable_variables))\n",
    "\n",
    "    # Generator (Encoder)\n",
    "    with tf.GradientTape() as gen_tape:\n",
    "        encoder_output = self.encode_and_reparametrize(batch_x, training=True)\n",
    "        dc_fake = self.discriminator(encoder_output, training=True)\n",
    "\n",
    "        # Generator loss\n",
    "        gen_loss = self.generator_loss(dc_fake, training=True)\n",
    "\n",
    "    gen_grads = gen_tape.gradient(gen_loss, self.encoder.trainable_variables)\n",
    "    self.gen_optimizer.apply_gradients(zip(gen_grads, self.encoder.trainable_variables))\n",
    "\n",
    "    return ae_loss, dc_loss, dc_acc, gen_loss\n",
    "  \n",
    "  def fit(self, train_dataset, epochs):\n",
    "    past = dt.now()\n",
    "    for epoch in range(epochs):\n",
    "      epoch_start = dt.now()\n",
    "      for train_x in train_dataset:\n",
    "        ae_loss, dc_loss, dc_acc, gen_loss = self.train_step(train_x)\n",
    "      epoch_end = dt.now()\n",
    "      print(\"Epoch: {}, time elapsed: {}, AE loss: {}, Discriminator loss: {}, Discriminator accuracy: {}, Generator loss: {}\".format(epoch + 1, epoch_end - epoch_start, ae_loss, dc_loss, dc_acc, gen_loss))\n"
   ]
  },
  {
   "cell_type": "code",
   "execution_count": 3,
   "metadata": {},
   "outputs": [
    {
     "name": "stdout",
     "output_type": "stream",
     "text": [
      "Epoch: 1, time elapsed: 0:00:30.012442, AE loss: 0.04376857355237007, Discriminator loss: 0.038676489144563675, Discriminator accuracy: 0.8688499927520752, Generator loss: 0.008441999554634094\n",
      "Epoch: 2, time elapsed: 0:00:21.661082, AE loss: 0.02822635881602764, Discriminator loss: 0.011295381933450699, Discriminator accuracy: 0.9342799782752991, Generator loss: 0.007401058916002512\n",
      "Epoch: 3, time elapsed: 0:00:22.338271, AE loss: 0.03133414313197136, Discriminator loss: 0.0033627618104219437, Discriminator accuracy: 0.9561733603477478, Generator loss: 0.0012941223103553057\n",
      "Epoch: 4, time elapsed: 0:00:22.400106, AE loss: 0.02950161322951317, Discriminator loss: 0.003304367884993553, Discriminator accuracy: 0.9671199917793274, Generator loss: 0.0006249931757338345\n",
      "Epoch: 5, time elapsed: 0:00:22.645451, AE loss: 0.027627527713775635, Discriminator loss: 0.0016453189309686422, Discriminator accuracy: 0.9736840128898621, Generator loss: 0.00044068144052289426\n",
      "Epoch: 6, time elapsed: 0:00:23.114986, AE loss: 0.025521239265799522, Discriminator loss: 0.0006651009898632765, Discriminator accuracy: 0.9780633449554443, Generator loss: 8.658089063828811e-05\n",
      "Epoch: 7, time elapsed: 0:00:23.076298, AE loss: 0.027193956077098846, Discriminator loss: 0.005494428798556328, Discriminator accuracy: 0.9811971187591553, Generator loss: 0.0006569983670488\n",
      "Epoch: 8, time elapsed: 0:00:23.057349, AE loss: 0.025104623287916183, Discriminator loss: 0.001083210576325655, Discriminator accuracy: 0.983546257019043, Generator loss: 0.0004977734060958028\n",
      "Epoch: 9, time elapsed: 0:00:23.180021, AE loss: 0.02498563565313816, Discriminator loss: 0.00031250351457856596, Discriminator accuracy: 0.9853711128234863, Generator loss: 7.677004032302648e-05\n",
      "Epoch: 10, time elapsed: 0:00:23.471243, AE loss: 0.024624042212963104, Discriminator loss: 0.00031945283990353346, Discriminator accuracy: 0.9868339896202087, Generator loss: 0.00023999306722544134\n",
      "Epoch: 11, time elapsed: 0:00:23.270768, AE loss: 0.023712847381830215, Discriminator loss: 0.0005744952941313386, Discriminator accuracy: 0.9880309104919434, Generator loss: 0.0005636913701891899\n",
      "Epoch: 12, time elapsed: 0:00:23.223904, AE loss: 0.024617023766040802, Discriminator loss: 0.002801295602694154, Discriminator accuracy: 0.9890258312225342, Generator loss: 0.00021987315267324448\n"
     ]
    }
   ],
   "source": [
    "(train_images, train_labels), (test_images, test_labels) = tf.keras.datasets.cifar10.load_data()\n",
    "\n",
    "def preprocess_images(images):\n",
    "    images = images.reshape((images.shape[0], 32, 32, 3)).astype('float32') /255.\n",
    "    return images\n",
    "\n",
    "train_images = preprocess_images(train_images)\n",
    "test_images = preprocess_images(test_images)\n",
    "\n",
    "length = train_images.shape[1]\n",
    "width = train_images.shape[2]\n",
    "channels = train_images.shape[3]\n",
    "\n",
    "train_size = train_images.shape[0]\n",
    "test_size = test_images.shape[0]\n",
    "batch_size = 256\n",
    "\n",
    "train_dataset = tf.data.Dataset.from_tensor_slices(train_images).shuffle(train_size).batch(batch_size)\n",
    "test_dataset = tf.data.Dataset.from_tensor_slices(test_images).shuffle(test_size).batch(batch_size)\n",
    "\n",
    "aae = AAE(50, (length,width,channels), length*width*channels, [3,3,3], [2,2,2], [16, 32, 64], 200, [400, 150], 0.5, 1e-3, 1e-4, 1e-4)\n",
    "aae.fit(train_dataset, epochs=100)"
   ]
  },
  {
   "cell_type": "code",
   "execution_count": null,
   "metadata": {},
   "outputs": [
    {
     "data": {
      "image/png": "[encoded data removed]",
      "text/plain": [
       "<Figure size 432x288 with 1 Axes>"
      ]
     },
     "metadata": {
      "needs_background": "light"
     },
     "output_type": "display_data"
    },
    {
     "data": {
      "image/png": "[encoded data removed]",
      "text/plain": [
       "<Figure size 432x288 with 1 Axes>"
      ]
     },
     "metadata": {
      "needs_background": "light"
     },
     "output_type": "display_data"
    }
   ],
   "source": [
    "from matplotlib import pyplot as plt\n",
    "\n",
    "image = train_images[0,:,:,:].reshape((1,32,32,3))\n",
    "z = aae.encode_and_reparametrize(image)\n",
    "image_recon = aae.decode(z, apply_sigmoid=True)\n",
    "plt.figure()\n",
    "plt.imshow(image[0,:,:,:])\n",
    "plt.show()\n",
    "plt.figure()\n",
    "plt.imshow(image_recon[0,:,:,:])\n",
    "plt.show()"
   ]
  },
  {
   "cell_type": "code",
   "execution_count": null,
   "metadata": {},
   "outputs": [
    {
     "data": {
      "image/png": "[encoded data removed]",
      "text/plain": [
       "<Figure size 432x288 with 1 Axes>"
      ]
     },
     "metadata": {
      "needs_background": "light"
     },
     "output_type": "display_data"
    }
   ],
   "source": [
    "import tensorflow_probability as tfp\n",
    "\n",
    "z = np.random.rand(1,45)\n",
    "image = aae.decode(z, apply_sigmoid=True).numpy()\n",
    "image = image * 255.\n",
    "image=image.astype('int16')\n",
    "image.reshape((32,32,3))\n",
    "plt.figure()\n",
    "plt.imshow(image[0,:,:,:])\n",
    "plt.show()"
   ]
  }
 ],
 "metadata": {
  "interpreter": {
   "hash": "802d4647a7a0386ab071d09b3b926d986a71258cf56021a9fa597b7a13f049b3"
  },
  "kernelspec": {
   "display_name": "Python 3.9.7 64-bit",
   "language": "python",
   "name": "python3"
  },
  "language_info": {
   "codemirror_mode": {
    "name": "ipython",
    "version": 3
   },
   "file_extension": ".py",
   "mimetype": "text/x-python",
   "name": "python",
   "nbconvert_exporter": "python",
   "pygments_lexer": "ipython3",
   "version": "3.9.7"
  },
  "orig_nbformat": 4
 },
 "nbformat": 4,
 "nbformat_minor": 2
}
